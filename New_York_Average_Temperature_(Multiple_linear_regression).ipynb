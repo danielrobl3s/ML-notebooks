{
  "nbformat": 4,
  "nbformat_minor": 0,
  "metadata": {
    "colab": {
      "provenance": [],
      "authorship_tag": "ABX9TyN9VoHA5lELnvRcGuoAuINd",
      "include_colab_link": true
    },
    "kernelspec": {
      "name": "python3",
      "display_name": "Python 3"
    },
    "language_info": {
      "name": "python"
    }
  },
  "cells": [
    {
      "cell_type": "markdown",
      "metadata": {
        "id": "view-in-github",
        "colab_type": "text"
      },
      "source": [
        "<a href=\"https://colab.research.google.com/github/danielrobl3s/ML-notebooks/blob/master/New_York_Average_Temperature_(Multiple_linear_regression).ipynb\" target=\"_parent\"><img src=\"https://colab.research.google.com/assets/colab-badge.svg\" alt=\"Open In Colab\"/></a>"
      ]
    },
    {
      "cell_type": "markdown",
      "source": [
        "#Average temperature of New York city using linear regression, multiple linear regression, polynomial regression and support vector regression"
      ],
      "metadata": {
        "id": "r6pYmT2AdLdb"
      }
    },
    {
      "cell_type": "code",
      "execution_count": 58,
      "metadata": {
        "id": "HV_o25UgdKqf"
      },
      "outputs": [],
      "source": [
        "import numpy as np\n",
        "import matplotlib.pyplot as plt\n",
        "import pandas as pd\n",
        "from sklearn.metrics import mean_squared_error"
      ]
    },
    {
      "cell_type": "markdown",
      "source": [
        "#Importing the dataset"
      ],
      "metadata": {
        "id": "dfRnLUjzdiei"
      }
    },
    {
      "cell_type": "code",
      "source": [
        "dataset = pd.read_csv('nyc_temperature.csv')"
      ],
      "metadata": {
        "id": "lQ5gwcS3dgPK"
      },
      "execution_count": 27,
      "outputs": []
    },
    {
      "cell_type": "code",
      "source": [
        "#Replace 'T' (the missing values), to be null to be taken care of later\n",
        "dataset.replace('T', 'NaN', inplace=True)\n",
        "\n",
        "X = dataset.loc[:,:]\n",
        "X = dataset.drop(columns=['date', 'tavg'])\n",
        "X = X.values\n",
        "Y = dataset.loc[:,'tavg'].values"
      ],
      "metadata": {
        "id": "YRtr_DO2-Fjd"
      },
      "execution_count": 38,
      "outputs": []
    },
    {
      "cell_type": "code",
      "source": [
        "print(X)"
      ],
      "metadata": {
        "colab": {
          "base_uri": "https://localhost:8080/"
        },
        "id": "WLLe-l7mjvvw",
        "outputId": "f794bfdb-62f3-4e3b-e55b-6c91584fa985"
      },
      "execution_count": 34,
      "outputs": [
        {
          "output_type": "stream",
          "name": "stdout",
          "text": [
            "[[60 40 13.9 ... '0.08' '0' '0']\n",
            " [41 35 2.1 ... '0' '0' '0']\n",
            " [45 39 6.3 ... 'NaN' '0' '0']\n",
            " ...\n",
            " [44 38 4.3 ... '0.29' '0' '0']\n",
            " [43 38 4.0 ... '0.49' '0' '0']\n",
            " [46 38 5.7 ... '0.01' '0' '0']]\n"
          ]
        }
      ]
    },
    {
      "cell_type": "code",
      "source": [
        "print(Y)"
      ],
      "metadata": {
        "colab": {
          "base_uri": "https://localhost:8080/"
        },
        "id": "cyWQNhGvfYId",
        "outputId": "ff5e5c45-e5a0-4e7d-be10-167d2093260d"
      },
      "execution_count": 35,
      "outputs": [
        {
          "output_type": "stream",
          "name": "stdout",
          "text": [
            "[50.  38.  42.  42.  44.5 40.5 30.5 41.  40.5 32.5 27.  27.5 29.  28.5\n",
            " 31.  35.5 30.  35.5 35.5 28.  10.5 22.5 38.5 46.  34.5 30.  39.  32.\n",
            " 34.5 21.5 10.  17.  26.5 41.5 47.5 50.5 40.5 40.5 44.  28.5 30.  34.\n",
            " 30.5 37.5 39.5 48.5 39.  31.5 34.  30.  29.  42.  40.  35.5 41.  35.5\n",
            " 31.  26.  31.  30.5 35.5 37.5 33.5 26.5 23.  26.  31.  40.5 39.  46.\n",
            " 38.5 39.  49.  60.  48.  39.5 39.5 42.5 44.  42.5 43.5 41.5 49.  50.\n",
            " 40.5 39.  44.  53.  55.5 49.5 39.5 43.5 54.  51.5 42.  52.5 55.  63.\n",
            " 46.5 51.  46.  55.5 66.5 63.  53.5 54.  54.  56.5 65.5 58.5 57.5 54.5\n",
            " 64.5 61.  56.  55.5 52.5 49.  51.5 52.5 51.5 59.  50.  59.  51.5 58.\n",
            " 58.  61.  56.5 64.5 63.5 51.5 46.  48.  58.  64.  70.5 67.  68.  77.\n",
            " 64.  66.5 66.5 68.5 63.5 75.5 73.5 66.5 62.  62.  71.  71.5 73.  66.\n",
            " 65.  74.  77.  72.  71.5 69.5 64.5 70.5 68.  61.  68.5 73.  75.5 73.\n",
            " 70.  68.  70.  71.5 71.5 76.5 78.  79.  79.5 81.  82.  85.  78.  77.5\n",
            " 81.5 81.  82.  78.5 84.5 79.  75.5 80.  82.5 80.  81.5 80.5 85.  80.5\n",
            " 83.5 84.  74.5 83.  91.  91.5 82.5 72.5 77.  79.  80.  81.  84.  85.5\n",
            " 88.  81.  80.5 80.5 79.5 79.5 76.  77.5 78.5 81.  79.5 76.5 75.5 80.5\n",
            " 77.5 77.5 78.5 76.5 79.5 82.5 84.  82.5 84.5 82.  71.  70.5 71.5 67.5\n",
            " 70.5 72.5 76.5 79.5 76.5 71.5 74.5 75.5 79.5 69.5 64.5 67.5 73.  71.5\n",
            " 73.  80.5 73.5 66.5 70.5 78.  73.5 71.  64.  62.5 69.5 74.5 77.  81.\n",
            " 71.5 70.5 74.5 70.5 74.  72.5 66.5 73.  79.  60.5 58.  53.  64.  69.5\n",
            " 62.5 57.  62.5 60.5 62.5 61.5 67.  60.  60.5 55.5 54.  54.5 55.  60.\n",
            " 59.  61.  60.  60.  58.5 63.  58.5 55.5 58.  63.  55.  45.  48.5 49.\n",
            " 55.5 51.5 50.  36.5 36.  45.5 55.  42.5 29.5 37.  45.  38.  37.5 40.5\n",
            " 45.  45.  46.  46.5 41.  44.  47.  52.  52.  47.  37.  38.  35.5 35.5\n",
            " 35.  37.5 40.5 43.  35.5 36.  48.5 49.  36.5 31.5 39.5 50.5 44.  36.\n",
            " 35.  30.  22.5 29.  29.5 38.5 47.5 42.  38.5 41.  48.  47.  41.  40.5\n",
            " 42. ]\n"
          ]
        }
      ]
    },
    {
      "cell_type": "markdown",
      "source": [
        "#Taking care of missing data"
      ],
      "metadata": {
        "id": "E9aAhT9-qUti"
      }
    },
    {
      "cell_type": "code",
      "source": [
        "from sklearn.impute import SimpleImputer\n",
        "imputer = SimpleImputer(missing_values=np.nan, strategy='mean')\n",
        "imputer.fit(X[:,5:])\n",
        "X[:,5:] = imputer.transform(X[:,5:])"
      ],
      "metadata": {
        "id": "-KHbXvsoqXG5"
      },
      "execution_count": 39,
      "outputs": []
    },
    {
      "cell_type": "code",
      "source": [
        "print(X)"
      ],
      "metadata": {
        "colab": {
          "base_uri": "https://localhost:8080/"
        },
        "id": "ufpM75KC96y0",
        "outputId": "5873f64e-1134-49b8-d725-f60d42c5e335"
      },
      "execution_count": 40,
      "outputs": [
        {
          "output_type": "stream",
          "name": "stdout",
          "text": [
            "[[60 40 13.9 ... 0.08 0.0 0.0]\n",
            " [41 35 2.1 ... 0.0 0.0 0.0]\n",
            " [45 39 6.3 ... 0.16249201277955272 0.0 0.0]\n",
            " ...\n",
            " [44 38 4.3 ... 0.29 0.0 0.0]\n",
            " [43 38 4.0 ... 0.49 0.0 0.0]\n",
            " [46 38 5.7 ... 0.01 0.0 0.0]]\n"
          ]
        }
      ]
    },
    {
      "cell_type": "markdown",
      "source": [
        "#Splitting into train and test set"
      ],
      "metadata": {
        "id": "CL_Qnwc6ATpC"
      }
    },
    {
      "cell_type": "code",
      "source": [
        "from sklearn.model_selection import train_test_split\n",
        "x_train, x_test, y_train, y_test = train_test_split(X, Y, test_size = 0.2, random_state = 0)"
      ],
      "metadata": {
        "id": "g_jzJFORAV06"
      },
      "execution_count": 55,
      "outputs": []
    },
    {
      "cell_type": "markdown",
      "source": [
        "#Training the Multiple Linear Regression model on the Training set"
      ],
      "metadata": {
        "id": "g7NKHPcBAb9J"
      }
    },
    {
      "cell_type": "code",
      "source": [
        "from sklearn.linear_model import LinearRegression\n",
        "regressor = LinearRegression()\n",
        "regressor.fit(x_train, y_train)"
      ],
      "metadata": {
        "colab": {
          "base_uri": "https://localhost:8080/",
          "height": 74
        },
        "id": "99r4eOKoAc3x",
        "outputId": "e222565e-6cd9-4309-a6a0-86ced9a36b5a"
      },
      "execution_count": 42,
      "outputs": [
        {
          "output_type": "execute_result",
          "data": {
            "text/plain": [
              "LinearRegression()"
            ],
            "text/html": [
              "<style>#sk-container-id-1 {color: black;background-color: white;}#sk-container-id-1 pre{padding: 0;}#sk-container-id-1 div.sk-toggleable {background-color: white;}#sk-container-id-1 label.sk-toggleable__label {cursor: pointer;display: block;width: 100%;margin-bottom: 0;padding: 0.3em;box-sizing: border-box;text-align: center;}#sk-container-id-1 label.sk-toggleable__label-arrow:before {content: \"▸\";float: left;margin-right: 0.25em;color: #696969;}#sk-container-id-1 label.sk-toggleable__label-arrow:hover:before {color: black;}#sk-container-id-1 div.sk-estimator:hover label.sk-toggleable__label-arrow:before {color: black;}#sk-container-id-1 div.sk-toggleable__content {max-height: 0;max-width: 0;overflow: hidden;text-align: left;background-color: #f0f8ff;}#sk-container-id-1 div.sk-toggleable__content pre {margin: 0.2em;color: black;border-radius: 0.25em;background-color: #f0f8ff;}#sk-container-id-1 input.sk-toggleable__control:checked~div.sk-toggleable__content {max-height: 200px;max-width: 100%;overflow: auto;}#sk-container-id-1 input.sk-toggleable__control:checked~label.sk-toggleable__label-arrow:before {content: \"▾\";}#sk-container-id-1 div.sk-estimator input.sk-toggleable__control:checked~label.sk-toggleable__label {background-color: #d4ebff;}#sk-container-id-1 div.sk-label input.sk-toggleable__control:checked~label.sk-toggleable__label {background-color: #d4ebff;}#sk-container-id-1 input.sk-hidden--visually {border: 0;clip: rect(1px 1px 1px 1px);clip: rect(1px, 1px, 1px, 1px);height: 1px;margin: -1px;overflow: hidden;padding: 0;position: absolute;width: 1px;}#sk-container-id-1 div.sk-estimator {font-family: monospace;background-color: #f0f8ff;border: 1px dotted black;border-radius: 0.25em;box-sizing: border-box;margin-bottom: 0.5em;}#sk-container-id-1 div.sk-estimator:hover {background-color: #d4ebff;}#sk-container-id-1 div.sk-parallel-item::after {content: \"\";width: 100%;border-bottom: 1px solid gray;flex-grow: 1;}#sk-container-id-1 div.sk-label:hover label.sk-toggleable__label {background-color: #d4ebff;}#sk-container-id-1 div.sk-serial::before {content: \"\";position: absolute;border-left: 1px solid gray;box-sizing: border-box;top: 0;bottom: 0;left: 50%;z-index: 0;}#sk-container-id-1 div.sk-serial {display: flex;flex-direction: column;align-items: center;background-color: white;padding-right: 0.2em;padding-left: 0.2em;position: relative;}#sk-container-id-1 div.sk-item {position: relative;z-index: 1;}#sk-container-id-1 div.sk-parallel {display: flex;align-items: stretch;justify-content: center;background-color: white;position: relative;}#sk-container-id-1 div.sk-item::before, #sk-container-id-1 div.sk-parallel-item::before {content: \"\";position: absolute;border-left: 1px solid gray;box-sizing: border-box;top: 0;bottom: 0;left: 50%;z-index: -1;}#sk-container-id-1 div.sk-parallel-item {display: flex;flex-direction: column;z-index: 1;position: relative;background-color: white;}#sk-container-id-1 div.sk-parallel-item:first-child::after {align-self: flex-end;width: 50%;}#sk-container-id-1 div.sk-parallel-item:last-child::after {align-self: flex-start;width: 50%;}#sk-container-id-1 div.sk-parallel-item:only-child::after {width: 0;}#sk-container-id-1 div.sk-dashed-wrapped {border: 1px dashed gray;margin: 0 0.4em 0.5em 0.4em;box-sizing: border-box;padding-bottom: 0.4em;background-color: white;}#sk-container-id-1 div.sk-label label {font-family: monospace;font-weight: bold;display: inline-block;line-height: 1.2em;}#sk-container-id-1 div.sk-label-container {text-align: center;}#sk-container-id-1 div.sk-container {/* jupyter's `normalize.less` sets `[hidden] { display: none; }` but bootstrap.min.css set `[hidden] { display: none !important; }` so we also need the `!important` here to be able to override the default hidden behavior on the sphinx rendered scikit-learn.org. See: https://github.com/scikit-learn/scikit-learn/issues/21755 */display: inline-block !important;position: relative;}#sk-container-id-1 div.sk-text-repr-fallback {display: none;}</style><div id=\"sk-container-id-1\" class=\"sk-top-container\"><div class=\"sk-text-repr-fallback\"><pre>LinearRegression()</pre><b>In a Jupyter environment, please rerun this cell to show the HTML representation or trust the notebook. <br />On GitHub, the HTML representation is unable to render, please try loading this page with nbviewer.org.</b></div><div class=\"sk-container\" hidden><div class=\"sk-item\"><div class=\"sk-estimator sk-toggleable\"><input class=\"sk-toggleable__control sk-hidden--visually\" id=\"sk-estimator-id-1\" type=\"checkbox\" checked><label for=\"sk-estimator-id-1\" class=\"sk-toggleable__label sk-toggleable__label-arrow\">LinearRegression</label><div class=\"sk-toggleable__content\"><pre>LinearRegression()</pre></div></div></div></div></div>"
            ]
          },
          "metadata": {},
          "execution_count": 42
        }
      ]
    },
    {
      "cell_type": "markdown",
      "source": [
        "#Predicting the test results"
      ],
      "metadata": {
        "id": "o0DMcFPZjYl5"
      }
    },
    {
      "cell_type": "code",
      "source": [
        "y_pred = regressor.predict(x_test)\n",
        "#np.set_printoptions(precision=2)\n",
        "#print(np.concatenate((y_pred.reshape(len(y_pred), 1), y_test.reshape(len(y_test), 1)),1))\n",
        "\n",
        "print(y_pred)"
      ],
      "metadata": {
        "colab": {
          "base_uri": "https://localhost:8080/"
        },
        "id": "VXkACXF1ja0A",
        "outputId": "4272112c-e403-4ad2-d735-cdbdf5105fd6"
      },
      "execution_count": 54,
      "outputs": [
        {
          "output_type": "stream",
          "name": "stdout",
          "text": [
            "[54.  71.  48.5 39.  44.  39.5 39.5 36.5 72.5 30.5 51.5 66.5 74.5 67.\n",
            " 63.  88.  59.  55.5 76.5 64.  66.5 83.  30.5 60.  58.  73.5 39.  37.\n",
            " 61.  80.  51.5 66.5 35.5 40.5 41.  40.5 35.5 46.  77.  23.  80.  63.\n",
            " 80.5 64.  10.5 45.  80.5 79.5 76.5 26.  76.5 79.5 70.5 68.5 54.  35.5\n",
            " 40.  64.  49.5 39.5 41.  74.  41.  46.  44.  48.5 31.  50.  81.  69.5\n",
            " 48.  70.  56. ]\n"
          ]
        }
      ]
    },
    {
      "cell_type": "code",
      "source": [
        "print(y_test)"
      ],
      "metadata": {
        "colab": {
          "base_uri": "https://localhost:8080/"
        },
        "id": "jgv71EeAj4Ef",
        "outputId": "fd1f4057-fed1-4fda-b91c-ca9aef37fedf"
      },
      "execution_count": 45,
      "outputs": [
        {
          "output_type": "stream",
          "name": "stdout",
          "text": [
            "[54.  71.  48.5 39.  44.  39.5 39.5 36.5 72.5 30.5 51.5 66.5 74.5 67.\n",
            " 63.  88.  59.  55.5 76.5 64.  66.5 83.  30.5 60.  58.  73.5 39.  37.\n",
            " 61.  80.  51.5 66.5 35.5 40.5 41.  40.5 35.5 46.  77.  23.  80.  63.\n",
            " 80.5 64.  10.5 45.  80.5 79.5 76.5 26.  76.5 79.5 70.5 68.5 54.  35.5\n",
            " 40.  64.  49.5 39.5 41.  74.  41.  46.  44.  48.5 31.  50.  81.  69.5\n",
            " 48.  70.  56. ]\n"
          ]
        }
      ]
    },
    {
      "cell_type": "code",
      "source": [
        "# Evaluate the model\n",
        "mse = mean_squared_error(y_test, y_pred)\n",
        "print(\"Mean Squared Error:\", mse)"
      ],
      "metadata": {
        "colab": {
          "base_uri": "https://localhost:8080/"
        },
        "id": "BYP6ih3JmApG",
        "outputId": "3f164af2-fd77-40b6-a5e1-eb6160a3a9b0"
      },
      "execution_count": 59,
      "outputs": [
        {
          "output_type": "stream",
          "name": "stdout",
          "text": [
            "Mean Squared Error: 5.826764384865337e-29\n"
          ]
        }
      ]
    }
  ]
}