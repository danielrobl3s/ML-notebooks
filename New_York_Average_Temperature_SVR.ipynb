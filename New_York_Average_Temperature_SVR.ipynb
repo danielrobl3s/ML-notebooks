{
  "nbformat": 4,
  "nbformat_minor": 0,
  "metadata": {
    "colab": {
      "provenance": [],
      "authorship_tag": "ABX9TyPv6V+PioGzV1uozhkm3wI+",
      "include_colab_link": true
    },
    "kernelspec": {
      "name": "python3",
      "display_name": "Python 3"
    },
    "language_info": {
      "name": "python"
    }
  },
  "cells": [
    {
      "cell_type": "markdown",
      "metadata": {
        "id": "view-in-github",
        "colab_type": "text"
      },
      "source": [
        "<a href=\"https://colab.research.google.com/github/danielrobl3s/ML-notebooks/blob/main/New_York_Average_Temperature_SVR.ipynb\" target=\"_parent\"><img src=\"https://colab.research.google.com/assets/colab-badge.svg\" alt=\"Open In Colab\"/></a>"
      ]
    },
    {
      "cell_type": "markdown",
      "source": [
        "#Average temperature of New York city using linear regression, multiple linear regression, polynomial regression and support vector regression"
      ],
      "metadata": {
        "id": "r6pYmT2AdLdb"
      }
    },
    {
      "cell_type": "code",
      "execution_count": 2,
      "metadata": {
        "id": "HV_o25UgdKqf"
      },
      "outputs": [],
      "source": [
        "import numpy as np\n",
        "import matplotlib.pyplot as plt\n",
        "import pandas as pd\n",
        "from sklearn.metrics import mean_squared_error"
      ]
    },
    {
      "cell_type": "markdown",
      "source": [
        "#Importing the dataset"
      ],
      "metadata": {
        "id": "dfRnLUjzdiei"
      }
    },
    {
      "cell_type": "code",
      "source": [
        "dataset = pd.read_csv('nyc_temperature.csv')"
      ],
      "metadata": {
        "id": "lQ5gwcS3dgPK"
      },
      "execution_count": 3,
      "outputs": []
    },
    {
      "cell_type": "code",
      "source": [
        "#Replace 'T' (the missing values), to be null to be taken care of later\n",
        "dataset.replace('T', 'NaN', inplace=True)\n",
        "\n",
        "X = dataset.loc[:,:]\n",
        "X = dataset.drop(columns=['date', 'tavg'])\n",
        "X = X.values\n",
        "Y = dataset.loc[:,'tavg'].values"
      ],
      "metadata": {
        "id": "YRtr_DO2-Fjd"
      },
      "execution_count": 4,
      "outputs": []
    },
    {
      "cell_type": "code",
      "source": [
        "print(X)"
      ],
      "metadata": {
        "colab": {
          "base_uri": "https://localhost:8080/"
        },
        "id": "WLLe-l7mjvvw",
        "outputId": "9a04f0c2-9349-4fe1-9262-abc9c8a2ecc7"
      },
      "execution_count": 5,
      "outputs": [
        {
          "output_type": "stream",
          "name": "stdout",
          "text": [
            "[[60 40 13.9 ... '0.08' '0' '0']\n",
            " [41 35 2.1 ... '0' '0' '0']\n",
            " [45 39 6.3 ... 'NaN' '0' '0']\n",
            " ...\n",
            " [44 38 4.3 ... '0.29' '0' '0']\n",
            " [43 38 4.0 ... '0.49' '0' '0']\n",
            " [46 38 5.7 ... '0.01' '0' '0']]\n"
          ]
        }
      ]
    },
    {
      "cell_type": "code",
      "source": [
        "print(Y)"
      ],
      "metadata": {
        "colab": {
          "base_uri": "https://localhost:8080/"
        },
        "id": "cyWQNhGvfYId",
        "outputId": "2033d00f-4c94-413b-dd8b-2013f71d4393"
      },
      "execution_count": 6,
      "outputs": [
        {
          "output_type": "stream",
          "name": "stdout",
          "text": [
            "[50.  38.  42.  42.  44.5 40.5 30.5 41.  40.5 32.5 27.  27.5 29.  28.5\n",
            " 31.  35.5 30.  35.5 35.5 28.  10.5 22.5 38.5 46.  34.5 30.  39.  32.\n",
            " 34.5 21.5 10.  17.  26.5 41.5 47.5 50.5 40.5 40.5 44.  28.5 30.  34.\n",
            " 30.5 37.5 39.5 48.5 39.  31.5 34.  30.  29.  42.  40.  35.5 41.  35.5\n",
            " 31.  26.  31.  30.5 35.5 37.5 33.5 26.5 23.  26.  31.  40.5 39.  46.\n",
            " 38.5 39.  49.  60.  48.  39.5 39.5 42.5 44.  42.5 43.5 41.5 49.  50.\n",
            " 40.5 39.  44.  53.  55.5 49.5 39.5 43.5 54.  51.5 42.  52.5 55.  63.\n",
            " 46.5 51.  46.  55.5 66.5 63.  53.5 54.  54.  56.5 65.5 58.5 57.5 54.5\n",
            " 64.5 61.  56.  55.5 52.5 49.  51.5 52.5 51.5 59.  50.  59.  51.5 58.\n",
            " 58.  61.  56.5 64.5 63.5 51.5 46.  48.  58.  64.  70.5 67.  68.  77.\n",
            " 64.  66.5 66.5 68.5 63.5 75.5 73.5 66.5 62.  62.  71.  71.5 73.  66.\n",
            " 65.  74.  77.  72.  71.5 69.5 64.5 70.5 68.  61.  68.5 73.  75.5 73.\n",
            " 70.  68.  70.  71.5 71.5 76.5 78.  79.  79.5 81.  82.  85.  78.  77.5\n",
            " 81.5 81.  82.  78.5 84.5 79.  75.5 80.  82.5 80.  81.5 80.5 85.  80.5\n",
            " 83.5 84.  74.5 83.  91.  91.5 82.5 72.5 77.  79.  80.  81.  84.  85.5\n",
            " 88.  81.  80.5 80.5 79.5 79.5 76.  77.5 78.5 81.  79.5 76.5 75.5 80.5\n",
            " 77.5 77.5 78.5 76.5 79.5 82.5 84.  82.5 84.5 82.  71.  70.5 71.5 67.5\n",
            " 70.5 72.5 76.5 79.5 76.5 71.5 74.5 75.5 79.5 69.5 64.5 67.5 73.  71.5\n",
            " 73.  80.5 73.5 66.5 70.5 78.  73.5 71.  64.  62.5 69.5 74.5 77.  81.\n",
            " 71.5 70.5 74.5 70.5 74.  72.5 66.5 73.  79.  60.5 58.  53.  64.  69.5\n",
            " 62.5 57.  62.5 60.5 62.5 61.5 67.  60.  60.5 55.5 54.  54.5 55.  60.\n",
            " 59.  61.  60.  60.  58.5 63.  58.5 55.5 58.  63.  55.  45.  48.5 49.\n",
            " 55.5 51.5 50.  36.5 36.  45.5 55.  42.5 29.5 37.  45.  38.  37.5 40.5\n",
            " 45.  45.  46.  46.5 41.  44.  47.  52.  52.  47.  37.  38.  35.5 35.5\n",
            " 35.  37.5 40.5 43.  35.5 36.  48.5 49.  36.5 31.5 39.5 50.5 44.  36.\n",
            " 35.  30.  22.5 29.  29.5 38.5 47.5 42.  38.5 41.  48.  47.  41.  40.5\n",
            " 42. ]\n"
          ]
        }
      ]
    },
    {
      "cell_type": "markdown",
      "source": [
        "#Taking care of missing data"
      ],
      "metadata": {
        "id": "xzWrjeWGrxTn"
      }
    },
    {
      "cell_type": "code",
      "source": [
        "from sklearn.impute import SimpleImputer\n",
        "imputer = SimpleImputer(missing_values=np.nan, strategy='mean')\n",
        "imputer.fit(X[:,5:])\n",
        "X[:,5:] = imputer.transform(X[:,5:])"
      ],
      "metadata": {
        "id": "BHFmv3LHrxTn"
      },
      "execution_count": 27,
      "outputs": []
    },
    {
      "cell_type": "code",
      "source": [
        "print(X)"
      ],
      "metadata": {
        "colab": {
          "base_uri": "https://localhost:8080/"
        },
        "outputId": "785180bf-48ab-4bc7-e8e5-12a3df01bceb",
        "id": "dp2KQnjvrxTn"
      },
      "execution_count": 28,
      "outputs": [
        {
          "output_type": "stream",
          "name": "stdout",
          "text": [
            "[[60 40 13.9 ... 0.08 0.0 0.0]\n",
            " [41 35 2.1 ... 0.0 0.0 0.0]\n",
            " [45 39 6.3 ... 0.16249201277955272 0.0 0.0]\n",
            " ...\n",
            " [44 38 4.3 ... 0.29 0.0 0.0]\n",
            " [43 38 4.0 ... 0.49 0.0 0.0]\n",
            " [46 38 5.7 ... 0.01 0.0 0.0]]\n"
          ]
        }
      ]
    },
    {
      "cell_type": "code",
      "source": [
        "Y = Y.reshape(len(Y), 1)\n",
        "print(Y)"
      ],
      "metadata": {
        "colab": {
          "base_uri": "https://localhost:8080/"
        },
        "id": "EeSpj8pGv4Nk",
        "outputId": "0fa167a6-4054-46be-ded3-997f88b4183a"
      },
      "execution_count": 29,
      "outputs": [
        {
          "output_type": "stream",
          "name": "stdout",
          "text": [
            "[[50. ]\n",
            " [38. ]\n",
            " [42. ]\n",
            " [42. ]\n",
            " [44.5]\n",
            " [40.5]\n",
            " [30.5]\n",
            " [41. ]\n",
            " [40.5]\n",
            " [32.5]\n",
            " [27. ]\n",
            " [27.5]\n",
            " [29. ]\n",
            " [28.5]\n",
            " [31. ]\n",
            " [35.5]\n",
            " [30. ]\n",
            " [35.5]\n",
            " [35.5]\n",
            " [28. ]\n",
            " [10.5]\n",
            " [22.5]\n",
            " [38.5]\n",
            " [46. ]\n",
            " [34.5]\n",
            " [30. ]\n",
            " [39. ]\n",
            " [32. ]\n",
            " [34.5]\n",
            " [21.5]\n",
            " [10. ]\n",
            " [17. ]\n",
            " [26.5]\n",
            " [41.5]\n",
            " [47.5]\n",
            " [50.5]\n",
            " [40.5]\n",
            " [40.5]\n",
            " [44. ]\n",
            " [28.5]\n",
            " [30. ]\n",
            " [34. ]\n",
            " [30.5]\n",
            " [37.5]\n",
            " [39.5]\n",
            " [48.5]\n",
            " [39. ]\n",
            " [31.5]\n",
            " [34. ]\n",
            " [30. ]\n",
            " [29. ]\n",
            " [42. ]\n",
            " [40. ]\n",
            " [35.5]\n",
            " [41. ]\n",
            " [35.5]\n",
            " [31. ]\n",
            " [26. ]\n",
            " [31. ]\n",
            " [30.5]\n",
            " [35.5]\n",
            " [37.5]\n",
            " [33.5]\n",
            " [26.5]\n",
            " [23. ]\n",
            " [26. ]\n",
            " [31. ]\n",
            " [40.5]\n",
            " [39. ]\n",
            " [46. ]\n",
            " [38.5]\n",
            " [39. ]\n",
            " [49. ]\n",
            " [60. ]\n",
            " [48. ]\n",
            " [39.5]\n",
            " [39.5]\n",
            " [42.5]\n",
            " [44. ]\n",
            " [42.5]\n",
            " [43.5]\n",
            " [41.5]\n",
            " [49. ]\n",
            " [50. ]\n",
            " [40.5]\n",
            " [39. ]\n",
            " [44. ]\n",
            " [53. ]\n",
            " [55.5]\n",
            " [49.5]\n",
            " [39.5]\n",
            " [43.5]\n",
            " [54. ]\n",
            " [51.5]\n",
            " [42. ]\n",
            " [52.5]\n",
            " [55. ]\n",
            " [63. ]\n",
            " [46.5]\n",
            " [51. ]\n",
            " [46. ]\n",
            " [55.5]\n",
            " [66.5]\n",
            " [63. ]\n",
            " [53.5]\n",
            " [54. ]\n",
            " [54. ]\n",
            " [56.5]\n",
            " [65.5]\n",
            " [58.5]\n",
            " [57.5]\n",
            " [54.5]\n",
            " [64.5]\n",
            " [61. ]\n",
            " [56. ]\n",
            " [55.5]\n",
            " [52.5]\n",
            " [49. ]\n",
            " [51.5]\n",
            " [52.5]\n",
            " [51.5]\n",
            " [59. ]\n",
            " [50. ]\n",
            " [59. ]\n",
            " [51.5]\n",
            " [58. ]\n",
            " [58. ]\n",
            " [61. ]\n",
            " [56.5]\n",
            " [64.5]\n",
            " [63.5]\n",
            " [51.5]\n",
            " [46. ]\n",
            " [48. ]\n",
            " [58. ]\n",
            " [64. ]\n",
            " [70.5]\n",
            " [67. ]\n",
            " [68. ]\n",
            " [77. ]\n",
            " [64. ]\n",
            " [66.5]\n",
            " [66.5]\n",
            " [68.5]\n",
            " [63.5]\n",
            " [75.5]\n",
            " [73.5]\n",
            " [66.5]\n",
            " [62. ]\n",
            " [62. ]\n",
            " [71. ]\n",
            " [71.5]\n",
            " [73. ]\n",
            " [66. ]\n",
            " [65. ]\n",
            " [74. ]\n",
            " [77. ]\n",
            " [72. ]\n",
            " [71.5]\n",
            " [69.5]\n",
            " [64.5]\n",
            " [70.5]\n",
            " [68. ]\n",
            " [61. ]\n",
            " [68.5]\n",
            " [73. ]\n",
            " [75.5]\n",
            " [73. ]\n",
            " [70. ]\n",
            " [68. ]\n",
            " [70. ]\n",
            " [71.5]\n",
            " [71.5]\n",
            " [76.5]\n",
            " [78. ]\n",
            " [79. ]\n",
            " [79.5]\n",
            " [81. ]\n",
            " [82. ]\n",
            " [85. ]\n",
            " [78. ]\n",
            " [77.5]\n",
            " [81.5]\n",
            " [81. ]\n",
            " [82. ]\n",
            " [78.5]\n",
            " [84.5]\n",
            " [79. ]\n",
            " [75.5]\n",
            " [80. ]\n",
            " [82.5]\n",
            " [80. ]\n",
            " [81.5]\n",
            " [80.5]\n",
            " [85. ]\n",
            " [80.5]\n",
            " [83.5]\n",
            " [84. ]\n",
            " [74.5]\n",
            " [83. ]\n",
            " [91. ]\n",
            " [91.5]\n",
            " [82.5]\n",
            " [72.5]\n",
            " [77. ]\n",
            " [79. ]\n",
            " [80. ]\n",
            " [81. ]\n",
            " [84. ]\n",
            " [85.5]\n",
            " [88. ]\n",
            " [81. ]\n",
            " [80.5]\n",
            " [80.5]\n",
            " [79.5]\n",
            " [79.5]\n",
            " [76. ]\n",
            " [77.5]\n",
            " [78.5]\n",
            " [81. ]\n",
            " [79.5]\n",
            " [76.5]\n",
            " [75.5]\n",
            " [80.5]\n",
            " [77.5]\n",
            " [77.5]\n",
            " [78.5]\n",
            " [76.5]\n",
            " [79.5]\n",
            " [82.5]\n",
            " [84. ]\n",
            " [82.5]\n",
            " [84.5]\n",
            " [82. ]\n",
            " [71. ]\n",
            " [70.5]\n",
            " [71.5]\n",
            " [67.5]\n",
            " [70.5]\n",
            " [72.5]\n",
            " [76.5]\n",
            " [79.5]\n",
            " [76.5]\n",
            " [71.5]\n",
            " [74.5]\n",
            " [75.5]\n",
            " [79.5]\n",
            " [69.5]\n",
            " [64.5]\n",
            " [67.5]\n",
            " [73. ]\n",
            " [71.5]\n",
            " [73. ]\n",
            " [80.5]\n",
            " [73.5]\n",
            " [66.5]\n",
            " [70.5]\n",
            " [78. ]\n",
            " [73.5]\n",
            " [71. ]\n",
            " [64. ]\n",
            " [62.5]\n",
            " [69.5]\n",
            " [74.5]\n",
            " [77. ]\n",
            " [81. ]\n",
            " [71.5]\n",
            " [70.5]\n",
            " [74.5]\n",
            " [70.5]\n",
            " [74. ]\n",
            " [72.5]\n",
            " [66.5]\n",
            " [73. ]\n",
            " [79. ]\n",
            " [60.5]\n",
            " [58. ]\n",
            " [53. ]\n",
            " [64. ]\n",
            " [69.5]\n",
            " [62.5]\n",
            " [57. ]\n",
            " [62.5]\n",
            " [60.5]\n",
            " [62.5]\n",
            " [61.5]\n",
            " [67. ]\n",
            " [60. ]\n",
            " [60.5]\n",
            " [55.5]\n",
            " [54. ]\n",
            " [54.5]\n",
            " [55. ]\n",
            " [60. ]\n",
            " [59. ]\n",
            " [61. ]\n",
            " [60. ]\n",
            " [60. ]\n",
            " [58.5]\n",
            " [63. ]\n",
            " [58.5]\n",
            " [55.5]\n",
            " [58. ]\n",
            " [63. ]\n",
            " [55. ]\n",
            " [45. ]\n",
            " [48.5]\n",
            " [49. ]\n",
            " [55.5]\n",
            " [51.5]\n",
            " [50. ]\n",
            " [36.5]\n",
            " [36. ]\n",
            " [45.5]\n",
            " [55. ]\n",
            " [42.5]\n",
            " [29.5]\n",
            " [37. ]\n",
            " [45. ]\n",
            " [38. ]\n",
            " [37.5]\n",
            " [40.5]\n",
            " [45. ]\n",
            " [45. ]\n",
            " [46. ]\n",
            " [46.5]\n",
            " [41. ]\n",
            " [44. ]\n",
            " [47. ]\n",
            " [52. ]\n",
            " [52. ]\n",
            " [47. ]\n",
            " [37. ]\n",
            " [38. ]\n",
            " [35.5]\n",
            " [35.5]\n",
            " [35. ]\n",
            " [37.5]\n",
            " [40.5]\n",
            " [43. ]\n",
            " [35.5]\n",
            " [36. ]\n",
            " [48.5]\n",
            " [49. ]\n",
            " [36.5]\n",
            " [31.5]\n",
            " [39.5]\n",
            " [50.5]\n",
            " [44. ]\n",
            " [36. ]\n",
            " [35. ]\n",
            " [30. ]\n",
            " [22.5]\n",
            " [29. ]\n",
            " [29.5]\n",
            " [38.5]\n",
            " [47.5]\n",
            " [42. ]\n",
            " [38.5]\n",
            " [41. ]\n",
            " [48. ]\n",
            " [47. ]\n",
            " [41. ]\n",
            " [40.5]\n",
            " [42. ]]\n"
          ]
        }
      ]
    },
    {
      "cell_type": "markdown",
      "source": [
        "#Feature scaling"
      ],
      "metadata": {
        "id": "K6ejuMILvB7-"
      }
    },
    {
      "cell_type": "code",
      "source": [
        "from sklearn.preprocessing import StandardScaler\n",
        "\n",
        "sc_X = StandardScaler()\n",
        "sc_Y = StandardScaler()\n",
        "\n",
        "X = sc_X.fit_transform(X)\n",
        "Y = sc_Y.fit_transform(Y)"
      ],
      "metadata": {
        "id": "CNPI9n9itn4k"
      },
      "execution_count": 30,
      "outputs": []
    },
    {
      "cell_type": "markdown",
      "source": [
        "#Train the SVR model"
      ],
      "metadata": {
        "id": "nYzwuoOvwaQU"
      }
    },
    {
      "cell_type": "code",
      "source": [
        "from sklearn.svm import SVR\n",
        "regressor = SVR(kernel='rbf')\n",
        "regressor.fit(X, Y)"
      ],
      "metadata": {
        "colab": {
          "base_uri": "https://localhost:8080/",
          "height": 129
        },
        "id": "cblwQRonwZdd",
        "outputId": "2ad54d4a-d63d-4827-9f19-f9ea3b6d237a"
      },
      "execution_count": 31,
      "outputs": [
        {
          "output_type": "stream",
          "name": "stderr",
          "text": [
            "/usr/local/lib/python3.10/dist-packages/sklearn/utils/validation.py:1143: DataConversionWarning: A column-vector y was passed when a 1d array was expected. Please change the shape of y to (n_samples, ), for example using ravel().\n",
            "  y = column_or_1d(y, warn=True)\n"
          ]
        },
        {
          "output_type": "execute_result",
          "data": {
            "text/plain": [
              "SVR()"
            ],
            "text/html": [
              "<style>#sk-container-id-3 {color: black;background-color: white;}#sk-container-id-3 pre{padding: 0;}#sk-container-id-3 div.sk-toggleable {background-color: white;}#sk-container-id-3 label.sk-toggleable__label {cursor: pointer;display: block;width: 100%;margin-bottom: 0;padding: 0.3em;box-sizing: border-box;text-align: center;}#sk-container-id-3 label.sk-toggleable__label-arrow:before {content: \"▸\";float: left;margin-right: 0.25em;color: #696969;}#sk-container-id-3 label.sk-toggleable__label-arrow:hover:before {color: black;}#sk-container-id-3 div.sk-estimator:hover label.sk-toggleable__label-arrow:before {color: black;}#sk-container-id-3 div.sk-toggleable__content {max-height: 0;max-width: 0;overflow: hidden;text-align: left;background-color: #f0f8ff;}#sk-container-id-3 div.sk-toggleable__content pre {margin: 0.2em;color: black;border-radius: 0.25em;background-color: #f0f8ff;}#sk-container-id-3 input.sk-toggleable__control:checked~div.sk-toggleable__content {max-height: 200px;max-width: 100%;overflow: auto;}#sk-container-id-3 input.sk-toggleable__control:checked~label.sk-toggleable__label-arrow:before {content: \"▾\";}#sk-container-id-3 div.sk-estimator input.sk-toggleable__control:checked~label.sk-toggleable__label {background-color: #d4ebff;}#sk-container-id-3 div.sk-label input.sk-toggleable__control:checked~label.sk-toggleable__label {background-color: #d4ebff;}#sk-container-id-3 input.sk-hidden--visually {border: 0;clip: rect(1px 1px 1px 1px);clip: rect(1px, 1px, 1px, 1px);height: 1px;margin: -1px;overflow: hidden;padding: 0;position: absolute;width: 1px;}#sk-container-id-3 div.sk-estimator {font-family: monospace;background-color: #f0f8ff;border: 1px dotted black;border-radius: 0.25em;box-sizing: border-box;margin-bottom: 0.5em;}#sk-container-id-3 div.sk-estimator:hover {background-color: #d4ebff;}#sk-container-id-3 div.sk-parallel-item::after {content: \"\";width: 100%;border-bottom: 1px solid gray;flex-grow: 1;}#sk-container-id-3 div.sk-label:hover label.sk-toggleable__label {background-color: #d4ebff;}#sk-container-id-3 div.sk-serial::before {content: \"\";position: absolute;border-left: 1px solid gray;box-sizing: border-box;top: 0;bottom: 0;left: 50%;z-index: 0;}#sk-container-id-3 div.sk-serial {display: flex;flex-direction: column;align-items: center;background-color: white;padding-right: 0.2em;padding-left: 0.2em;position: relative;}#sk-container-id-3 div.sk-item {position: relative;z-index: 1;}#sk-container-id-3 div.sk-parallel {display: flex;align-items: stretch;justify-content: center;background-color: white;position: relative;}#sk-container-id-3 div.sk-item::before, #sk-container-id-3 div.sk-parallel-item::before {content: \"\";position: absolute;border-left: 1px solid gray;box-sizing: border-box;top: 0;bottom: 0;left: 50%;z-index: -1;}#sk-container-id-3 div.sk-parallel-item {display: flex;flex-direction: column;z-index: 1;position: relative;background-color: white;}#sk-container-id-3 div.sk-parallel-item:first-child::after {align-self: flex-end;width: 50%;}#sk-container-id-3 div.sk-parallel-item:last-child::after {align-self: flex-start;width: 50%;}#sk-container-id-3 div.sk-parallel-item:only-child::after {width: 0;}#sk-container-id-3 div.sk-dashed-wrapped {border: 1px dashed gray;margin: 0 0.4em 0.5em 0.4em;box-sizing: border-box;padding-bottom: 0.4em;background-color: white;}#sk-container-id-3 div.sk-label label {font-family: monospace;font-weight: bold;display: inline-block;line-height: 1.2em;}#sk-container-id-3 div.sk-label-container {text-align: center;}#sk-container-id-3 div.sk-container {/* jupyter's `normalize.less` sets `[hidden] { display: none; }` but bootstrap.min.css set `[hidden] { display: none !important; }` so we also need the `!important` here to be able to override the default hidden behavior on the sphinx rendered scikit-learn.org. See: https://github.com/scikit-learn/scikit-learn/issues/21755 */display: inline-block !important;position: relative;}#sk-container-id-3 div.sk-text-repr-fallback {display: none;}</style><div id=\"sk-container-id-3\" class=\"sk-top-container\"><div class=\"sk-text-repr-fallback\"><pre>SVR()</pre><b>In a Jupyter environment, please rerun this cell to show the HTML representation or trust the notebook. <br />On GitHub, the HTML representation is unable to render, please try loading this page with nbviewer.org.</b></div><div class=\"sk-container\" hidden><div class=\"sk-item\"><div class=\"sk-estimator sk-toggleable\"><input class=\"sk-toggleable__control sk-hidden--visually\" id=\"sk-estimator-id-3\" type=\"checkbox\" checked><label for=\"sk-estimator-id-3\" class=\"sk-toggleable__label sk-toggleable__label-arrow\">SVR</label><div class=\"sk-toggleable__content\"><pre>SVR()</pre></div></div></div></div></div>"
            ]
          },
          "metadata": {},
          "execution_count": 31
        }
      ]
    },
    {
      "cell_type": "markdown",
      "source": [
        "#Predict new result"
      ],
      "metadata": {
        "id": "qRnsQWWjwuQ8"
      }
    },
    {
      "cell_type": "code",
      "source": [
        "sc_Y.inverse_transform(regressor.predict(sc_X.transform([[60, 40, 13.9, 15, 0, 0.08, 0, 0]])).reshape(-1, 1))"
      ],
      "metadata": {
        "colab": {
          "base_uri": "https://localhost:8080/"
        },
        "id": "EVBkwaOpwwGL",
        "outputId": "dd0e5831-b504-440b-ce4a-f00e46736b9a"
      },
      "execution_count": 33,
      "outputs": [
        {
          "output_type": "execute_result",
          "data": {
            "text/plain": [
              "array([[51.49562526]])"
            ]
          },
          "metadata": {},
          "execution_count": 33
        }
      ]
    }
  ]
}